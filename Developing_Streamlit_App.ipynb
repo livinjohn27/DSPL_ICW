{
  "nbformat": 4,
  "nbformat_minor": 0,
  "metadata": {
    "colab": {
      "provenance": []
    },
    "kernelspec": {
      "name": "python3",
      "display_name": "Python 3"
    },
    "language_info": {
      "name": "python"
    }
  },
  "cells": [
    {
      "cell_type": "code",
      "source": [
        "# Install Streamlit and LocalTunnel\n",
        "!pip install streamlit -q\n",
        "!npm install -g localtunnel\n",
        "\n"
      ],
      "metadata": {
        "colab": {
          "base_uri": "https://localhost:8080/"
        },
        "id": "e7IPCDW6qOK9",
        "outputId": "30d06b68-afa6-4182-c7e2-a77c033edda4"
      },
      "execution_count": 6,
      "outputs": [
        {
          "output_type": "stream",
          "name": "stdout",
          "text": [
            "\u001b[1G\u001b[0K⠙\u001b[1G\u001b[0K⠹\u001b[1G\u001b[0K⠸\u001b[1G\u001b[0K⠼\u001b[1G\u001b[0K⠴\u001b[1G\u001b[0K⠦\u001b[1G\u001b[0K\n",
            "changed 22 packages in 838ms\n",
            "\u001b[1G\u001b[0K⠦\u001b[1G\u001b[0K\n",
            "\u001b[1G\u001b[0K⠦\u001b[1G\u001b[0K3 packages are looking for funding\n",
            "\u001b[1G\u001b[0K⠦\u001b[1G\u001b[0K  run `npm fund` for details\n",
            "\u001b[1G\u001b[0K⠦\u001b[1G\u001b[0K"
          ]
        }
      ]
    },
    {
      "cell_type": "code",
      "source": [
        "# Save your Streamlit app\n",
        "%%writefile app.py\n",
        "import streamlit as st\n",
        "import pandas as pd\n",
        "import plotly.express as px\n",
        "\n",
        "# Load data\n",
        "@st.cache_data\n",
        "def load_data():\n",
        "    return pd.read_csv(\"https://raw.githubusercontent.com/livinjohn27/DSPL_ICW/refs/heads/main/Final_Food_Prices.csv\")\n",
        "\n",
        "df = load_data()\n",
        "\n",
        "# Sidebar navigation\n",
        "st.sidebar.title(\"Navigation\")\n",
        "page = st.sidebar.radio(\"Go to\", [\n",
        "    \"App Description\",\n",
        "    \"Average Price Over Time\",\n",
        "    \"Price Distribution\",\n",
        "    \"Regional Price Differences\",\n",
        "    \"Top/Bottom Priced Commodities\",\n",
        "    \"Price Volatility\",\n",
        "    \"Category-wise Trends\",\n",
        "    \"Median vs Mean Comparison\"\n",
        "])\n",
        "\n",
        "# Description Page\n",
        "if page == \"App Description\":\n",
        "    st.title(\"📈 Food Price Analysis Dashboard\")\n",
        "    st.markdown(\"\"\"\n",
        "        This dashboard is designed for government officials to:\n",
        "\n",
        "        - Track average and volatile food prices.\n",
        "        - Compare price changes across commodities and regions.\n",
        "        - Make informed policy decisions using clear visual insights.\n",
        "\n",
        "        Data includes commodity-wise pricing, geographic location, and time references.\n",
        "    \"\"\")\n",
        "\n",
        "# Chart placeholders for further development\n",
        "elif page == \"Average Price Over Time\":\n",
        "    st.title(\"📊 Average Price Over Time\")\n",
        "    df['Reference_Period_Start'] = pd.to_datetime(df['Reference_Period_Start'])\n",
        "    avg_price = df.groupby(['Reference_Period_Start', 'Commodity_Name'])['Standardized_Price'].mean().reset_index()\n",
        "\n",
        "    selected_commodity = st.selectbox(\"Select a Commodity\", df['Commodity_Name'].unique())\n",
        "    filtered = avg_price[avg_price['Commodity_Name'] == selected_commodity]\n",
        "\n",
        "    fig = px.line(filtered, x='Reference_Period_Start', y='Standardized_Price',\n",
        "              title=f'Average Price Over Time: {selected_commodity}')\n",
        "    st.plotly_chart(fig, use_container_width=True)\n",
        "\n",
        "\n",
        "elif page == \"Price Distribution\":\n",
        "    st.title(\"📊 Price Distribution by Commodity\")\n",
        "    selected_commodities = st.multiselect(\"Select Commodities\", df['Commodity_Name'].unique(), default=df['Commodity_Name'].unique()[:5])\n",
        "    filtered = df[df['Commodity_Name'].isin(selected_commodities)]\n",
        "\n",
        "    fig = px.box(filtered, x='Commodity_Name', y='Standardized_Price',\n",
        "                title='Price Distribution by Commodity')\n",
        "    st.plotly_chart(fig, use_container_width=True)\n",
        "\n",
        "\n",
        "elif page == \"Regional Price Differences\":\n",
        "    st.title(\"🗺️ Regional Price Differences\")\n",
        "    avg_location_price = df.groupby(['Market_Name', 'Latitude', 'Longitude'])['Standardized_Price'].mean().reset_index()\n",
        "\n",
        "    fig = px.scatter_mapbox(avg_location_price,\n",
        "                            lat='Latitude', lon='Longitude', size='Standardized_Price',\n",
        "                            color='Standardized_Price', hover_name='Market_Name',\n",
        "                            zoom=6, mapbox_style='carto-positron',\n",
        "                            title='Regional Price Differences')\n",
        "    st.plotly_chart(fig, use_container_width=True)\n",
        "\n",
        "\n",
        "elif page == \"Top/Bottom Priced Commodities\":\n",
        "    st.title(\"🏆 Top/Bottom Priced Commodities\")\n",
        "    avg_prices = df.groupby('Commodity_Name')['Standardized_Price'].mean().reset_index()\n",
        "    top_n = st.slider(\"Top N Commodities\", 5, 20, 10)\n",
        "\n",
        "    top = avg_prices.sort_values(by='Standardized_Price', ascending=False).head(top_n)\n",
        "    bottom = avg_prices.sort_values(by='Standardized_Price', ascending=True).head(top_n)\n",
        "\n",
        "    st.subheader(\"Top Priced Commodities\")\n",
        "    st.plotly_chart(px.bar(top, x='Commodity_Name', y='Standardized_Price'), use_container_width=True)\n",
        "\n",
        "    st.subheader(\"Lowest Priced Commodities\")\n",
        "    st.plotly_chart(px.bar(bottom, x='Commodity_Name', y='Standardized_Price'), use_container_width=True)\n",
        "\n",
        "\n",
        "elif page == \"Price Volatility\":\n",
        "    st.title(\"📉 Price Volatility\")\n",
        "    volatility = df.groupby('Commodity_Name')['Price_Std'].mean().reset_index()\n",
        "    volatility = volatility.sort_values(by='Price_Std', ascending=False)\n",
        "\n",
        "    fig = px.bar(volatility.head(15), x='Commodity_Name', y='Price_Std',\n",
        "                 title='Most Volatile Commodities (Top 15)')\n",
        "    st.plotly_chart(fig, use_container_width=True)\n",
        "\n",
        "\n",
        "elif page == \"Category-wise Trends\":\n",
        "    st.title(\"📂 Category-wise Price Trends\")\n",
        "    df['Reference_Period_Start'] = pd.to_datetime(df['Reference_Period_Start'])\n",
        "    category_trend = df.groupby(['Reference_Period_Start', 'Commodity_Category'])['Standardized_Price'].mean().reset_index()\n",
        "\n",
        "    fig = px.line(category_trend, x='Reference_Period_Start', y='Standardized_Price',\n",
        "                  color='Commodity_Category', title='Category-wise Price Trends')\n",
        "    st.plotly_chart(fig, use_container_width=True)\n",
        "\n",
        "\n",
        "elif page == \"Median vs Mean Comparison\":\n",
        "    st.title(\"⚖️ Median vs Mean Price Comparison\")\n",
        "    summary = df.groupby('Commodity_Name')[['Price_Mean', 'Price_Median']].mean().reset_index()\n",
        "\n",
        "    fig = px.scatter(summary, x='Price_Mean', y='Price_Median',\n",
        "                     hover_name='Commodity_Name', trendline='ols',\n",
        "                     title='Median vs Mean Price by Commodity')\n",
        "    st.plotly_chart(fig, use_container_width=True)\n",
        "\n"
      ],
      "metadata": {
        "colab": {
          "base_uri": "https://localhost:8080/"
        },
        "id": "vtKtQklZq0e6",
        "outputId": "8afce4c1-bc71-48de-f410-551c6c52800f"
      },
      "execution_count": 7,
      "outputs": [
        {
          "output_type": "stream",
          "name": "stdout",
          "text": [
            "Overwriting app.py\n"
          ]
        }
      ]
    },
    {
      "cell_type": "code",
      "source": [
        "# Start Streamlit app in the background\n",
        "import threading\n",
        "import time\n",
        "import os\n",
        "\n",
        "def run_streamlit():\n",
        "    os.system('streamlit run app.py')\n",
        "\n",
        "thread = threading.Thread(target=run_streamlit)\n",
        "thread.start()\n",
        "\n",
        "# Wait for Streamlit to start\n",
        "time.sleep(10)\n"
      ],
      "metadata": {
        "id": "k9JSnhfwq16z"
      },
      "execution_count": 8,
      "outputs": []
    },
    {
      "cell_type": "code",
      "source": [
        "!wget -q -O - ipv4.icanhazip.com"
      ],
      "metadata": {
        "colab": {
          "base_uri": "https://localhost:8080/"
        },
        "id": "8JMLF5Awq3ob",
        "outputId": "d08aafba-2712-4145-fc45-cb799488d72d"
      },
      "execution_count": 9,
      "outputs": [
        {
          "output_type": "stream",
          "name": "stdout",
          "text": [
            "34.125.243.139\n"
          ]
        }
      ]
    },
    {
      "cell_type": "code",
      "source": [
        "# Start LocalTunnel (you can also set a subdomain if needed)\n",
        "!npx localtunnel --port 8501"
      ],
      "metadata": {
        "colab": {
          "base_uri": "https://localhost:8080/"
        },
        "id": "Sk1RHr8Iq5hB",
        "outputId": "3adb0393-84c0-48e1-c749-3b8ea094a6d4"
      },
      "execution_count": 10,
      "outputs": [
        {
          "output_type": "stream",
          "name": "stdout",
          "text": [
            "\u001b[1G\u001b[0K⠙\u001b[1G\u001b[0K⠹\u001b[1G\u001b[0K⠸\u001b[1G\u001b[0K⠼\u001b[1G\u001b[0K⠴\u001b[1G\u001b[0K⠦\u001b[1G\u001b[0Kyour url is: https://hungry-ducks-scream.loca.lt\n",
            "^C\n"
          ]
        }
      ]
    }
  ]
}